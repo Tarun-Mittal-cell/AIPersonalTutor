{
 "cells": [
  {
   "cell_type": "markdown",
   "id": "fe12c203-e6a6-452c-a655-afb8a03a4ff5",
   "metadata": {},
   "source": [
    "# End of week 1 exercise\n",
    "\n",
    "To demonstrate your familiarity with OpenAI API, and also Ollama, build a tool that takes a technical question,  \n",
    "and responds with an explanation. This is a tool that you will be able to use yourself during the course!"
   ]
  },
  {
   "cell_type": "code",
   "execution_count": 16,
   "id": "af7d3b8a-77ea-416c-baf8-152ffd93bfa1",
   "metadata": {},
   "outputs": [],
   "source": [
    "# imports\n",
    "\n",
    "from dotenv import load_dotenv\n",
    "from IPython.display import Markdown, display, update_display\n",
    "from openai import OpenAI\n",
    "import ollama\n",
    "import os\n",
    "import anthropic"
   ]
  },
  {
   "cell_type": "code",
   "execution_count": 17,
   "id": "4a456906-915a-4bfd-bb9d-57e505c5093f",
   "metadata": {},
   "outputs": [],
   "source": [
    "if 'OPENAI_API_KEY' in os.environ:\n",
    "    del os.environ['OPENAI_API_KEY']\n",
    "# constants\n",
    "\n",
    "MODEL_GPT = 'gpt-4o-mini'\n",
    "MODEL_LLAMA = 'llama3.2'"
   ]
  },
  {
   "cell_type": "code",
   "execution_count": 19,
   "id": "a8d7923c-5f28-4c30-8556-342d7c8497c1",
   "metadata": {},
   "outputs": [],
   "source": [
    "# set up environment\n",
    "load_dotenv()\n",
    "openai = OpenAI()"
   ]
  },
  {
   "cell_type": "code",
   "execution_count": 20,
   "id": "3f0d0137-52b0-47a8-81a8-11a90a010798",
   "metadata": {},
   "outputs": [],
   "source": [
    "# here is the question; type over this to ask something new\n",
    "\n",
    "question = \"\"\"\n",
    "Please explain what this code does and why:\n",
    "yield from {book.get(\"author\") for book in books if book.get(\"author\")}\n",
    "\"\"\""
   ]
  },
  {
   "cell_type": "code",
   "execution_count": 21,
   "id": "60ce7000-a4a5-4cce-a261-e75ef45063b4",
   "metadata": {},
   "outputs": [],
   "source": [
    "# prompts\n",
    "\n",
    "system_prompt = \"You are a helpful technical tutor who answers questions about python code, software engineering, data science and LLMs\"\n",
    "user_prompt = \"Please give a detailed explanation to the following question: \" + question"
   ]
  },
  {
   "cell_type": "code",
   "execution_count": 22,
   "id": "8f7c8ea8-4082-4ad0-8751-3301adcf6538",
   "metadata": {},
   "outputs": [],
   "source": [
    "# messages\n",
    "\n",
    "messages = [\n",
    "    {\"role\": \"system\", \"content\": system_prompt},\n",
    "    {\"role\": \"user\", \"content\": user_prompt}\n",
    "]"
   ]
  },
  {
   "cell_type": "code",
   "execution_count": 23,
   "id": "d3d05362-c72b-4217-8177-450069ac322a",
   "metadata": {},
   "outputs": [
    {
     "data": {
      "text/markdown": [
       "Certainly! Let's break down the code snippet you provided:\n",
       "\n",
       "python\n",
       "yield from {book.get(\"author\") for book in books if book.get(\"author\")}\n",
       "\n",
       "\n",
       "This line of code is a Python generator expression that uses the `yield from` syntax. Let’s dissect it step by step:\n",
       "\n",
       "### Components Breakdown\n",
       "\n",
       "1. **Generator Expression**: \n",
       "   - The part inside the curly braces `{...}` is a set comprehension. This particular comprehension is used to create a set that contains authors gathered from a collection of books.\n",
       "   - The expression iterates over a collection named `books`.\n",
       "\n",
       "2. **Iterating Over `books`**:\n",
       "   - `for book in books`: This part iterates over each item in the `books` collection, where each item is expected to be a dictionary (typically representing a book).\n",
       "\n",
       "3. **Accessing Authors**:\n",
       "   - `book.get(\"author\")`: For each `book`, it attempts to retrieve the value associated with the key `\"author\"`. The `get` method of a dictionary returns the value for the specified key if it exists; otherwise, it returns `None`.\n",
       "   \n",
       "4. **Filtering Out Non-Authors**:\n",
       "   - `if book.get(\"author\")`: This condition checks if the value returned by `book.get(\"author\")` is truthy (i.e., not `None`, an empty string, or any other value that evaluates to `False`). If the author is available, it proceeds to include that author in the set.\n",
       "\n",
       "5. **Creating a Set**:\n",
       "   - `{...}`: By using curly braces, a set is created. Sets automatically handle duplicates, which means if multiple books have the same author, that author will only appear once in the resulting set.\n",
       "\n",
       "6. **Yielding Authors**:\n",
       "   - `yield from`: This keyword is used in a generator function to yield all values from an iterable (in this case, the set of authors) one at a time. When `yield` is encountered, it returns the value to the caller without exiting the function, allowing it to pause and resume later.\n",
       "\n",
       "### Summary of What the Code Does\n",
       "\n",
       "- The entire statement constructs a set of unique authors from a list or collection called `books`, where each book is represented as a dictionary.\n",
       "- It filters out any `None` or missing authors, meaning only books that have a defined author will contribute to the final set.\n",
       "- `yield from` then effectively \"yields\" each unique author one by one to the caller of the generator function in which this line of code is contained.\n",
       "\n",
       "### Why This Code Might Be Used\n",
       "\n",
       "- **Efficiency**: This approach efficiently gathers unique authors from potentially large lists of books without creating intermediate lists, as it directly generates the set.\n",
       "- **Uniqueness**: Since it uses a set, it ensures that each author is only yielded once, regardless of how many books they are associated with.\n",
       "- **Generator**: By incorporating this inside a generator function, it allows for lazy evaluation, meaning authors are generated on-the-fly and can be processed one at a time instead of loading the entire collection into memory at once.\n",
       "\n",
       "### Example\n",
       "\n",
       "Here’s an example of how this might work with some data:\n",
       "\n",
       "python\n",
       "books = [\n",
       "    {\"title\": \"Book A\", \"author\": \"Author One\"},\n",
       "    {\"title\": \"Book B\", \"author\": \"Author Two\"},\n",
       "    {\"title\": \"Book C\", \"author\": \"Author One\"},  # Duplicate author\n",
       "    {\"title\": \"Book D\"}  # No author\n",
       "]\n",
       "\n",
       "def get_authors(books):\n",
       "    yield from {book.get(\"author\") for book in books if book.get(\"author\")}\n",
       "\n",
       "# Usage:\n",
       "for author in get_authors(books):\n",
       "    print(author)\n",
       "\n",
       "\n",
       "#### Output\n",
       "\n",
       "Author One\n",
       "Author Two\n",
       "\n",
       "\n",
       "In this example, the function `get_authors` will yield \"Author One\" and \"Author Two\", while skipping any books without an author, ensuring only unique authors are printed."
      ],
      "text/plain": [
       "<IPython.core.display.Markdown object>"
      ]
     },
     "metadata": {},
     "output_type": "display_data"
    }
   ],
   "source": [
    "# Get gpt-4o-mini to answer, with streaming\n",
    "\n",
    "stream = openai.chat.completions.create(model=MODEL_GPT, messages=messages,stream=True)\n",
    "    \n",
    "response = \"\"\n",
    "display_handle = display(Markdown(\"\"), display_id=True)\n",
    "for chunk in stream:\n",
    "    response += chunk.choices[0].delta.content or ''  \n",
    "    response = response.replace(\"```\",\"\").replace(\"markdown\", \"\")\n",
    "    update_display(Markdown(response), display_id=display_handle.display_id)"
   ]
  },
  {
   "cell_type": "code",
   "execution_count": 25,
   "id": "40f9a927-972d-4842-a828-ea389178b3e6",
   "metadata": {},
   "outputs": [
    {
     "data": {
      "text/markdown": [
       "**Code Explanation**\n",
       "\n",
       "The given code snippet uses a combination of Python's built-in data structures, iteration, and generator functionality. Let's break it down:\n",
       "\n",
       "```python\n",
       "{book.get(\"author\") for book in books if book.get(\"author\")}\n",
       "```\n",
       "\n",
       "This is a **dictionary comprehension**, which creates a new dictionary by iterating over the items in an existing dictionary (`books`). The `get()` method is used to access values within the dictionaries.\n",
       "\n",
       "Here's what happens step-by-step:\n",
       "\n",
       "1. `for book in books`: Iterate over each key-value pair (book) in the `books` dictionary.\n",
       "2. `if book.get(\"author\")`: Filter out books that don't have an \"author\" key or value. If a book doesn't have an \"author\", the `get()` method returns `None`, which is considered `False` in a boolean context.\n",
       "3. `{book.get(\"author\")}`: For each book with an \"author\" key-value pair, extract the author's name using the `get()` method.\n",
       "\n",
       "Now, let's talk about **yield from**:\n",
       "\n",
       "```python\n",
       "yield from {book.get(\"author\") for book in books if book.get(\"author\")}\n",
       "```\n",
       "\n",
       "This is a more complex construct that combines a dictionary comprehension with the `yield from` statement. The `yield from` keyword allows us to **delegate the iteration** to another iterable.\n",
       "\n",
       "In this case, `{book.get(\"author\") for book in books if book.get(\"author\")}` is an iterator (a generator) that produces author names as values. When we use `yield from`, we're telling Python to **use this iterator as a context manager**, yielding each value produced by the dictionary comprehension.\n",
       "\n",
       "**Why?**\n",
       "\n",
       "The purpose of this code snippet is likely to create a sequence of authors, which can be used in various contexts, such as:\n",
       "\n",
       "* Creating a list of author names\n",
       "* Using a generator expression or list comprehension\n",
       "* Passing it as an argument to a function that expects an iterable\n",
       "\n",
       "By using `yield from`, we're able to avoid the overhead of creating a new dictionary or list with all the authors' names. Instead, Python will yield each author's name individually, allowing for more efficient memory usage and lazy evaluation.\n",
       "\n",
       "In summary:\n",
       "\n",
       "* The inner dictionary comprehension iterates over books with \"author\" key-value pairs.\n",
       "* The `yield from` statement delegates the iteration to this generator expression, producing a sequence of author names without creating an intermediate list or dictionary."
      ],
      "text/plain": [
       "<IPython.core.display.Markdown object>"
      ]
     },
     "metadata": {},
     "output_type": "display_data"
    }
   ],
   "source": [
    "# Get Llama 3.2 to answer\n",
    "\n",
    "response = ollama.chat(model=MODEL_LLAMA, messages=messages)\n",
    "reply = response['message']['content']\n",
    "display(Markdown(reply))"
   ]
  },
  {
   "cell_type": "code",
   "execution_count": null,
   "id": "ecb17fa8-cd07-47c5-b82d-2e0f392bb426",
   "metadata": {},
   "outputs": [],
   "source": []
  },
  {
   "cell_type": "code",
   "execution_count": null,
   "id": "53c59d84-29e5-4305-b8c1-5c6dfb1c4078",
   "metadata": {},
   "outputs": [],
   "source": []
  },
  {
   "cell_type": "code",
   "execution_count": null,
   "id": "b3e56ac3-8729-4ed6-8d96-02563fbdce8b",
   "metadata": {},
   "outputs": [],
   "source": []
  }
 ],
 "metadata": {
  "kernelspec": {
   "display_name": "Python 3 (ipykernel)",
   "language": "python",
   "name": "python3"
  },
  "language_info": {
   "codemirror_mode": {
    "name": "ipython",
    "version": 3
   },
   "file_extension": ".py",
   "mimetype": "text/x-python",
   "name": "python",
   "nbconvert_exporter": "python",
   "pygments_lexer": "ipython3",
   "version": "3.11.11"
  }
 },
 "nbformat": 4,
 "nbformat_minor": 5
}
